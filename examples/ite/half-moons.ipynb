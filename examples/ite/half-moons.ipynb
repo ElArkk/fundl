{
 "cells": [
  {
   "cell_type": "code",
   "execution_count": null,
   "metadata": {},
   "outputs": [],
   "source": [
    "%load_ext autoreload\n",
    "%autoreload 2\n",
    "%matplotlib inline\n",
    "%config InlineBackend.figure_format = 'retina'\n",
    "\n",
    "from sklearn.datasets import make_moons"
   ]
  },
  {
   "cell_type": "code",
   "execution_count": null,
   "metadata": {},
   "outputs": [],
   "source": [
    "X, y = make_moons(n_samples=1000)"
   ]
  },
  {
   "cell_type": "code",
   "execution_count": null,
   "metadata": {},
   "outputs": [],
   "source": [
    "import pandas as pd\n",
    "import janitor\n",
    "from random import random\n",
    "\n",
    "# Now, assign 0.8 probability of responder to treatment group == 1\n",
    "# and 0.2 probability of responder to treatment group == 0\n",
    "def assign_response(x):\n",
    "    if x[\"treatment_group\"] == 1:\n",
    "        p = 0.8\n",
    "    else:\n",
    "        p = 0.2\n",
    "    \n",
    "    return (random() < p) * 1\n",
    "\n",
    "data = pd.DataFrame(X).rename_columns({0: \"covariate_1\", 1: \"covariate_2\"}).add_column(\"treatment_group\", y).join_apply(assign_response, new_column_name=\"response\")"
   ]
  },
  {
   "cell_type": "code",
   "execution_count": null,
   "metadata": {},
   "outputs": [],
   "source": [
    "data"
   ]
  },
  {
   "cell_type": "code",
   "execution_count": null,
   "metadata": {},
   "outputs": [],
   "source": [
    "import matplotlib.pyplot as plt\n",
    "import holoviews as hv\n",
    "hv.extension('bokeh')\n",
    "import hvplot.pandas\n",
    "\n",
    "data.hvplot(kind=\"scatter\", x=\"covariate_1\", y=\"covariate_2\", c=\"response\", colormap=\"viridis\").opts(width=600, height=400)"
   ]
  },
  {
   "cell_type": "code",
   "execution_count": null,
   "metadata": {},
   "outputs": [],
   "source": [
    "from fundl.layers import dense\n",
    "from fundl.activations import relu, sigmoid\n",
    "from fundl.losses import _cross_entropy_loss\n",
    "import numpy.random as npr\n",
    "import jax.numpy as np\n",
    "\n",
    "def reps(params, x):\n",
    "    x = dense(params[\"dense1\"], x, nonlin=relu)\n",
    "    x = dense(params[\"dense2\"], x, nonlin=relu)\n",
    "    return x\n",
    "\n",
    "\n",
    "def phi(params, x):\n",
    "    x = reps(params, x)\n",
    "    x = dense(params[\"dense3\"], x, nonlin=relu)\n",
    "    return x\n",
    "\n",
    "\n",
    "def h(params, x):\n",
    "    x = dense(params[\"dense4\"], x, nonlin=relu)\n",
    "    x = dense(params[\"dense5\"], x, nonlin=sigmoid)\n",
    "    return x\n",
    "\n",
    "def model(params, x, t):\n",
    "    x = phi(params, x)\n",
    "    x = np.hstack([x, t])\n",
    "    x = h(params, x)\n",
    "    return x\n",
    "\n",
    "\n",
    "def cross_entropy_loss(params, model, x, y, t):\n",
    "    y_hat = model(params, x, t)\n",
    "    return _cross_entropy_loss(y, y_hat)\n",
    "\n",
    "\n",
    "def maximum_mean_discrepancy_loss(params, x, indicator):\n",
    "    \"\"\"MMD\"\"\"\n",
    "    r = reps(params, x) # shape: (n, k), where n = number of samples, k = number of reps dimensions\n",
    "    \n",
    "    # THERE MAY BE A BUG ON THESE TWO LINES. TODO: CHECK!!!\n",
    "    non_treated = np.take(r, np.where(indicator == 0, 0, 1), axis=0)  # (:, k)\n",
    "    treated = np.take(r, np.where(indicator == 1, 0, 1), axis=0)      # (:, k)\n",
    "    \n",
    "    A = 10 * npr.normal(size=(r.shape[1], 1))  # adaptation_matrix of shape (k, 1)\n",
    "    mmd = np.abs(np.mean(np.dot(non_treated, A)) - np.mean(np.dot(treated, A)))  # scalar\n",
    "    return mmd\n",
    "\n",
    "def combined_loss(params, model, x, y, t):\n",
    "    ce_loss = cross_entropy_loss(params, model, x, y, t)\n",
    "    mmd_loss = maximum_mean_discrepancy_loss(params, x, t)\n",
    "    return -ce_loss + mmd_loss\n",
    "\n",
    "\n",
    "from jax import grad\n",
    "dloss = grad(combined_loss)"
   ]
  },
  {
   "cell_type": "code",
   "execution_count": null,
   "metadata": {},
   "outputs": [],
   "source": [
    "r = reps(params, x)\n",
    "non_treated = np.take(r, np.where(t == 0, 0, 1), axis=0)\n",
    "treated = np.take(r, np.where(t == 1, 0, 1), axis=0)      # (:, k)\n",
    "\n",
    "plt.hist(treated.flatten())\n",
    "plt.hist(non_treated.flatten())\n",
    "# treated"
   ]
  },
  {
   "cell_type": "code",
   "execution_count": null,
   "metadata": {},
   "outputs": [],
   "source": [
    "from fundl.weights import add_dense_params\n",
    "params = dict()\n",
    "params = add_dense_params(params, \"dense1\", 2, 10)\n",
    "params = add_dense_params(params, \"dense2\", 10, 10)\n",
    "params = add_dense_params(params, \"dense3\", 10, 10)\n",
    "params = add_dense_params(params, \"dense4\", 11, 10)\n",
    "params = add_dense_params(params, \"dense5\", 10, 1)\n",
    "\n",
    "# Test of forward pass\n",
    "x = data[[\"covariate_1\", \"covariate_2\"]].values\n",
    "t = data[\"treatment_group\"].values.reshape(-1, 1)\n",
    "y = data[\"response\"].values.reshape(-1, 1)\n",
    "y_hat = model(params, x, y)\n",
    "y_hat"
   ]
  },
  {
   "cell_type": "code",
   "execution_count": null,
   "metadata": {},
   "outputs": [],
   "source": [
    "# Test loss function\n",
    "combined_loss(params, model, x, y, t)"
   ]
  },
  {
   "cell_type": "code",
   "execution_count": null,
   "metadata": {},
   "outputs": [],
   "source": [
    "from jax.experimental.optimizers import adam\n",
    "\n",
    "init, update, get_params = adam(step_size=0.005)\n",
    "\n",
    "state = init(params)\n",
    "for i in range(1000):\n",
    "    g = dloss(params, model, x, y, t)\n",
    "    state = update(i, g, state)\n",
    "    params = get_params(state)\n",
    "    l = combined_loss(params, model, x, y, t)\n",
    "    print(l)"
   ]
  },
  {
   "cell_type": "code",
   "execution_count": null,
   "metadata": {},
   "outputs": [],
   "source": [
    "r = reps(params, x) \n",
    "twodims = np.dot(r, npr.normal(size=(10, 2)))\n",
    "pd.DataFrame(twodims).rename_columns({0: \"x\", 1: \"y\"}).add_column(\"treatment_group\", t).hvplot.scatter(x=\"x\", y=\"y\", c=\"treatment_group\")"
   ]
  },
  {
   "cell_type": "code",
   "execution_count": null,
   "metadata": {},
   "outputs": [],
   "source": [
    "data.query(\"treatment_group == 0\")"
   ]
  },
  {
   "cell_type": "code",
   "execution_count": null,
   "metadata": {},
   "outputs": [],
   "source": [
    "non_treated = np.take(x, np.where(t == 0, 0, 1), axis=0)\n",
    "non_treated"
   ]
  },
  {
   "cell_type": "code",
   "execution_count": null,
   "metadata": {},
   "outputs": [],
   "source": [
    "np.where??"
   ]
  },
  {
   "cell_type": "code",
   "execution_count": null,
   "metadata": {},
   "outputs": [],
   "source": []
  }
 ],
 "metadata": {
  "kernelspec": {
   "display_name": "fundl-dev",
   "language": "python",
   "name": "fundl-dev"
  },
  "language_info": {
   "codemirror_mode": {
    "name": "ipython",
    "version": 3
   },
   "file_extension": ".py",
   "mimetype": "text/x-python",
   "name": "python",
   "nbconvert_exporter": "python",
   "pygments_lexer": "ipython3",
   "version": "3.7.3"
  }
 },
 "nbformat": 4,
 "nbformat_minor": 4
}
