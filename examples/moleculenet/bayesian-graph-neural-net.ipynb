{
 "cells": [
  {
   "cell_type": "code",
   "execution_count": 1,
   "metadata": {},
   "outputs": [
    {
     "name": "stderr",
     "output_type": "stream",
     "text": [
      "Can not use cuDNN on context None: Disabled by dnn.enabled flag\n",
      "Mapped name None to device cuda: GeForce GTX 1080 Ti (0000:04:00.0)\n"
     ]
    }
   ],
   "source": [
    "import pymc3 as pm"
   ]
  },
  {
   "cell_type": "code",
   "execution_count": 2,
   "metadata": {},
   "outputs": [],
   "source": [
    "import theano.tensor as tt"
   ]
  },
  {
   "cell_type": "code",
   "execution_count": 3,
   "metadata": {},
   "outputs": [],
   "source": [
    "from fundl.datasets import make_graph_counting_dataset\n",
    "from fundl.utils import pad_graph\n",
    "import numpy as onp\n",
    "import networkx as nx\n",
    "import jax.numpy as np\n",
    "from chemgraph import atom_graph\n",
    "import janitor.chemistry\n"
   ]
  },
  {
   "cell_type": "code",
   "execution_count": 4,
   "metadata": {},
   "outputs": [
    {
     "name": "stdout",
     "output_type": "stream",
     "text": [
      "Generating feature matrices and adjacency matrices...\n",
      "Preparing outputs...\n",
      "Padding graphs to correct size...\n"
     ]
    }
   ],
   "source": [
    "import pandas as pd\n",
    "\n",
    "df = (\n",
    "    pd.read_csv(\"bace.csv\")\n",
    "    .rename_column(\"mol\", \"structure\")\n",
    "    .smiles2mol(\"structure\", \"mol\")\n",
    "    .join_apply(lambda x: atom_graph(x[\"mol\"]), \"graph\")\n",
    "    .join_apply(lambda x: len(x[\"graph\"]), \"graph_size\")\n",
    ")\n",
    "\n",
    "Gs = df[\"graph\"].tolist()\n",
    "\n",
    "print(\"Generating feature matrices and adjacency matrices...\")\n",
    "Fs = []\n",
    "As = []\n",
    "for G in Gs:\n",
    "    Fs.append(onp.vstack([d[\"features\"] for n, d in G.nodes(data=True)])) #WG: What are the features? Are they one-hot encoded?\n",
    "    As.append(onp.asarray(nx.adjacency_matrix(G).todense())) \n",
    "\n",
    "largest_graph_size = max([len(G) for G in Gs])\n",
    "\n",
    "print(\"Preparing outputs...\")\n",
    "# Next line is a dummy task, count number of nodes in graph.\n",
    "# y = np.array([len(G) for G in Gs]).reshape(-1, 1)\n",
    "\n",
    "# Next line is a real task.\n",
    "y = df[\"pIC50\"].values.reshape(-1, 1)\n",
    "\n",
    "print(\"Padding graphs to correct size...\")\n",
    "for i, (F, A) in enumerate(zip(Fs, As)):\n",
    "    F, A = pad_graph(F, A, largest_graph_size)\n",
    "    Fs[i] = F\n",
    "    As[i] = A\n"
   ]
  },
  {
   "cell_type": "code",
   "execution_count": 5,
   "metadata": {},
   "outputs": [
    {
     "data": {
      "text/plain": [
       "(2.5445461, 10.522879)"
      ]
     },
     "execution_count": 5,
     "metadata": {},
     "output_type": "execute_result"
    }
   ],
   "source": [
    "y.min(), y.max()"
   ]
  },
  {
   "cell_type": "code",
   "execution_count": 6,
   "metadata": {},
   "outputs": [
    {
     "name": "stdout",
     "output_type": "stream",
     "text": [
      "(1513, 97, 9)\n",
      "(1513, 97, 97)\n"
     ]
    }
   ],
   "source": [
    "Fs = onp.stack(Fs).astype(float)\n",
    "As = onp.stack(As).astype(float)\n",
    "\n",
    "print(Fs.shape)\n",
    "print(As.shape)\n"
   ]
  },
  {
   "cell_type": "code",
   "execution_count": 7,
   "metadata": {},
   "outputs": [],
   "source": [
    "from fundl.activations import relu, tanh\n",
    "\n",
    "def dense_params(prefix, input_dim, output_dim):\n",
    "    w = pm.Normal(f\"{prefix}_w\", mu=0, sigma=0.1, shape=(input_dim, output_dim))\n",
    "    b = pm.Normal(f\"{prefix}_b\", mu=0, sigma=0.1, shape=(output_dim,))\n",
    "    return dict(w=w, b=b)\n",
    "\n",
    "def mpnn(params, A, F, nonlin=relu):\n",
    "    \"\"\"Follow semantics of fundl.layers.graph.mpnn\"\"\"\n",
    "    F = tt.batched_dot(A, F)\n",
    "    F = tt.dot(F, params[\"w\"]) + params[\"b\"]\n",
    "    return nonlin(F)\n",
    "\n",
    "\n",
    "def gather(F):\n",
    "    \"\"\"Follow semantics of fundl.layers.graph.gather\"\"\"\n",
    "    return tt.sum(F, axis=1)\n",
    "\n",
    "def dense(params, x, nonlin=relu):\n",
    "    \"\"\"Follow semantics of fundl.layers.dense\"\"\"\n",
    "    a = nonlin(tt.dot(x, params[\"w\"]) + params[\"b\"])\n",
    "    return a"
   ]
  },
  {
   "cell_type": "code",
   "execution_count": 8,
   "metadata": {},
   "outputs": [],
   "source": [
    "def construct_graph_nn_model(As, Fs, y):\n",
    "\n",
    "    with pm.Model() as model:\n",
    "        \n",
    "        As = pm.Data(\"As\", As)\n",
    "        Fs = pm.Data(\"Fs\", Fs)\n",
    "        y = pm.Data(\"y\", y)\n",
    "\n",
    "        # Priors on parameters.\n",
    "        params = dict()\n",
    "        params[\"graph1\"] = dense_params(\"graph1\", 9, 9)\n",
    "        params[\"graph2\"] = dense_params(\"graph2\", 9, 7)\n",
    "        params[\"dense1\"] = dense_params(\"dense1\", 7, 7)\n",
    "        params[\"dense2\"] = dense_params(\"dense2\", 7, 1)\n",
    "\n",
    "        acts1 = mpnn(params[\"graph1\"], As, Fs)\n",
    "        acts2 = mpnn(params[\"graph2\"], As, acts1, nonlin=tt.tanh)\n",
    "        out = gather(acts2)\n",
    "        out = dense(params[\"dense1\"], out)\n",
    "        out = dense(params[\"dense2\"], out)\n",
    "\n",
    "        # Prior on noise in measurement.\n",
    "        sd = pm.Exponential(\"sd\", lam=1)\n",
    "\n",
    "        # Likelihood\n",
    "        like = pm.Normal(\"like\", mu=out, sd=sd, observed=y, total_size=1513)\n",
    "        \n",
    "    return model"
   ]
  },
  {
   "cell_type": "code",
   "execution_count": 15,
   "metadata": {},
   "outputs": [
    {
     "name": "stderr",
     "output_type": "stream",
     "text": [
      "Average Loss = 4,078: 100%|██████████| 50000/50000 [03:47<00:00, 219.63it/s]    \n",
      "Finished [100%]: Average Loss = 4,077.8\n"
     ]
    }
   ],
   "source": [
    "model = construct_graph_nn_model(As, Fs, y)\n",
    "with model:\n",
    "    approx = pm.fit(n=50000)\n",
    "    trace = approx.sample(2000)"
   ]
  },
  {
   "cell_type": "code",
   "execution_count": 16,
   "metadata": {},
   "outputs": [
    {
     "data": {
      "image/png": "[encoded data removed]",
      "text/plain": [
       "<Figure size 432x288 with 1 Axes>"
      ]
     },
     "metadata": {
      "needs_background": "light"
     },
     "output_type": "display_data"
    }
   ],
   "source": [
    "import matplotlib.pyplot as plt\n",
    "plt.plot(approx.hist)\n",
    "plt.yscale(\"log\")"
   ]
  },
  {
   "cell_type": "code",
   "execution_count": 76,
   "metadata": {},
   "outputs": [
    {
     "data": {
      "text/plain": [
       "(array([  2.,  10.,  69., 227., 480., 513., 407., 213.,  66.,  13.]),\n",
       " array([-0.09248044, -0.05135981, -0.01023918,  0.03088146,  0.07200209,\n",
       "         0.11312272,  0.15424335,  0.19536398,  0.23648462,  0.27760527,\n",
       "         0.31872588], dtype=float32),\n",
       " <a list of 10 Patch objects>)"
      ]
     },
     "execution_count": 76,
     "metadata": {},
     "output_type": "execute_result"
    },
    {
     "data": {
      "image/png": "[encoded data removed]",
      "text/plain": [
       "<Figure size 432x288 with 1 Axes>"
      ]
     },
     "metadata": {
      "needs_background": "light"
     },
     "output_type": "display_data"
    }
   ],
   "source": [
    "plt.hist(trace[\"dense2_w\"][:, 0, :])\n",
    "plt.hist(trace[\"dense2_w\"][:, 1, :])\n",
    "plt.hist(trace[\"dense2_w\"][:, 2, :])#.shape#.mean(axis=0)"
   ]
  },
  {
   "cell_type": "code",
   "execution_count": 18,
   "metadata": {},
   "outputs": [
    {
     "name": "stderr",
     "output_type": "stream",
     "text": [
      "100%|██████████| 500/500 [00:10<00:00, 47.52it/s]\n"
     ]
    }
   ],
   "source": [
    "with model:\n",
    "    # pm.set_data(new_data={'As': As, 'Fs': Fs, 'Y': y})\n",
    "    # ppc = pm.sample_posterior_predictive(trace, samples=500, progressbar=False, model=neural_network)\n",
    "    samples = pm.sample_posterior_predictive(trace, samples=500)"
   ]
  },
  {
   "cell_type": "code",
   "execution_count": 77,
   "metadata": {},
   "outputs": [
    {
     "data": {
      "text/plain": [
       "(500, 1513, 1)"
      ]
     },
     "execution_count": 77,
     "metadata": {},
     "output_type": "execute_result"
    }
   ],
   "source": [
    "samples[\"like\"].shape"
   ]
  },
  {
   "cell_type": "code",
   "execution_count": 19,
   "metadata": {},
   "outputs": [
    {
     "data": {
      "text/plain": [
       "[<matplotlib.lines.Line2D at 0x7f04963ba780>]"
      ]
     },
     "execution_count": 19,
     "metadata": {},
     "output_type": "execute_result"
    },
    {
     "data": {
      "image/png": "[encoded data removed]",
      "text/plain": [
       "<Figure size 432x288 with 1 Axes>"
      ]
     },
     "metadata": {
      "needs_background": "light"
     },
     "output_type": "display_data"
    }
   ],
   "source": [
    "plt.scatter(y, samples[\"like\"].mean(axis=0), color='red', alpha=0.1)\n",
    "\n",
    "plt.plot([y.min(), y.max()], [y.min(), y.max()])"
   ]
  },
  {
   "cell_type": "markdown",
   "metadata": {},
   "source": [
    "Not bad for training a teensy weensy neural network!\n",
    "\n",
    "What is the variance explained?"
   ]
  },
  {
   "cell_type": "code",
   "execution_count": 30,
   "metadata": {},
   "outputs": [
    {
     "data": {
      "text/plain": [
       "DeviceArray(0.17059827, dtype=float32)"
      ]
     },
     "execution_count": 30,
     "metadata": {},
     "output_type": "execute_result"
    }
   ],
   "source": [
    "score = 1 - np.var(y - samples[\"like\"].mean(axis=0))/np.var(y)\n",
    "score"
   ]
  },
  {
   "cell_type": "markdown",
   "metadata": {},
   "source": [
    "Let's see what the uncertainty looks like."
   ]
  },
  {
   "cell_type": "code",
   "execution_count": 20,
   "metadata": {},
   "outputs": [
    {
     "name": "stderr",
     "output_type": "stream",
     "text": [
      "/home/maer3/anaconda/envs/fundl-dev/lib/python3.7/site-packages/ipykernel_launcher.py:12: MatplotlibDeprecationWarning: Support for passing a (n, 1)-shaped error array to errorbar() is deprecated since Matplotlib 3.1 and will be removed in 3.3; pass a 1D array instead.\n",
      "  if sys.path[0] == '':\n"
     ]
    },
    {
     "data": {
      "text/plain": [
       "[<matplotlib.lines.Line2D at 0x7f0490b0b438>]"
      ]
     },
     "execution_count": 20,
     "metadata": {},
     "output_type": "execute_result"
    },
    {
     "data": {
      "image/png": "[encoded data removed]",
      "text/plain": [
       "<Figure size 432x288 with 1 Axes>"
      ]
     },
     "metadata": {
      "needs_background": "light"
     },
     "output_type": "display_data"
    }
   ],
   "source": [
    "l, m, u = np.percentile(samples[\"like\"], q=[25, 50, 75], axis=0)\n",
    "\n",
    "ldiff = m - l\n",
    "udiff = u - m\n",
    "\n",
    "plt.errorbar(\n",
    "    y, \n",
    "    samples[\"like\"].mean(axis=0),\n",
    "    yerr=[ldiff, udiff],\n",
    "    fmt='none',\n",
    "    color=\"red\",\n",
    "    alpha=0.1\n",
    ")\n",
    "plt.scatter(y, samples[\"like\"].mean(axis=0), color='red', alpha=0.1)\n",
    "plt.plot([y.min(), y.max()], [y.min(), y.max()])"
   ]
  },
  {
   "cell_type": "markdown",
   "metadata": {},
   "source": [
    "One thing to note here is that the error model we have presumed is **homoskedastic**, i.e. equal variance on each sample. What would have been more principled would be to assume **heteroskedasticity**, i.e. non-equal variance per sample, and explicitly write a model to predict that variance."
   ]
  },
  {
   "cell_type": "markdown",
   "metadata": {},
   "source": [
    "# Compare with vanilla GNN"
   ]
  },
  {
   "cell_type": "code",
   "execution_count": 54,
   "metadata": {},
   "outputs": [],
   "source": [
    "from fundl.layers.graph import mpnn as mpnn_, gather as gather_\n",
    "from fundl.layers import dense as dense_\n",
    "from fundl.weights import add_dense_params\n",
    "from fundl.losses import _mse_loss\n",
    "\n",
    "import jax.numpy as np\n",
    "from jax import grad\n"
   ]
  },
  {
   "cell_type": "code",
   "execution_count": 58,
   "metadata": {},
   "outputs": [],
   "source": [
    "def model(param, A, F):\n",
    "    acts1 = mpnn_(params[\"graph1\"], As, Fs, nonlin=relu)\n",
    "    acts2 = mpnn_(params[\"graph2\"], As, acts1, nonlin=tanh)\n",
    "    out = gather_(acts2)\n",
    "    out = dense_(params[\"dense1\"], out, nonlin=relu)\n",
    "    out = dense_(params[\"dense2\"], out, nonlin=relu)\n",
    "    return out"
   ]
  },
  {
   "cell_type": "code",
   "execution_count": 63,
   "metadata": {},
   "outputs": [],
   "source": [
    "# Priors on parameters.\n",
    "params = dict()\n",
    "params = add_dense_params(params, \"graph1\", 9, 9)\n",
    "params = add_dense_params(params, \"graph2\", 9, 7)\n",
    "params = add_dense_params(params, \"dense1\", 7, 7)\n",
    "params = add_dense_params(params, \"dense2\", 7, 1)"
   ]
  },
  {
   "cell_type": "code",
   "execution_count": 60,
   "metadata": {},
   "outputs": [],
   "source": [
    "def mseloss(p, model, Fs, As, y):\n",
    "    yhat = model(p, Fs, As)\n",
    "    return np.mean(_mse_loss(y, yhat))"
   ]
  },
  {
   "cell_type": "code",
   "execution_count": 68,
   "metadata": {},
   "outputs": [
    {
     "data": {
      "text/plain": [
       "DeviceArray([[0.00137879],\n",
       "             [0.00141805],\n",
       "             [0.00139337],\n",
       "             ...,\n",
       "             [0.00136475],\n",
       "             [0.00136152],\n",
       "             [0.00136327]], dtype=float32)"
      ]
     },
     "execution_count": 68,
     "metadata": {},
     "output_type": "execute_result"
    }
   ],
   "source": [
    "model(params, Fs, As)"
   ]
  },
  {
   "cell_type": "code",
   "execution_count": 65,
   "metadata": {},
   "outputs": [
    {
     "name": "stdout",
     "output_type": "stream",
     "text": [
      "{'dense1': {'b': _FilledConstant([0., 0., 0., 0., 0., 0., 0.], dtype=float32), 'w': _FilledConstant([[0., 0., 0., 0., 0., 0., 0.],\n",
      "                 [0., 0., 0., 0., 0., 0., 0.],\n",
      "                 [0., 0., 0., 0., 0., 0., 0.],\n",
      "                 [0., 0., 0., 0., 0., 0., 0.],\n",
      "                 [0., 0., 0., 0., 0., 0., 0.],\n",
      "                 [0., 0., 0., 0., 0., 0., 0.],\n",
      "                 [0., 0., 0., 0., 0., 0., 0.]], dtype=float32)}, 'dense2': {'b': _FilledConstant([0.], dtype=float32), 'w': _FilledConstant([[0.],\n",
      "                 [0.],\n",
      "                 [0.],\n",
      "                 [0.],\n",
      "                 [0.],\n",
      "                 [0.],\n",
      "                 [0.]], dtype=float32)}, 'graph1': {'b': _FilledConstant([0., 0., 0., 0., 0., 0., 0., 0., 0.], dtype=float32), 'w': _FilledConstant([[0., 0., 0., 0., 0., 0., 0., 0., 0.],\n",
      "                 [0., 0., 0., 0., 0., 0., 0., 0., 0.],\n",
      "                 [0., 0., 0., 0., 0., 0., 0., 0., 0.],\n",
      "                 [0., 0., 0., 0., 0., 0., 0., 0., 0.],\n",
      "                 [0., 0., 0., 0., 0., 0., 0., 0., 0.],\n",
      "                 [0., 0., 0., 0., 0., 0., 0., 0., 0.],\n",
      "                 [0., 0., 0., 0., 0., 0., 0., 0., 0.],\n",
      "                 [0., 0., 0., 0., 0., 0., 0., 0., 0.],\n",
      "                 [0., 0., 0., 0., 0., 0., 0., 0., 0.]], dtype=float32)}, 'graph2': {'b': _FilledConstant([0., 0., 0., 0., 0., 0., 0.], dtype=float32), 'w': _FilledConstant([[0., 0., 0., 0., 0., 0., 0.],\n",
      "                 [0., 0., 0., 0., 0., 0., 0.],\n",
      "                 [0., 0., 0., 0., 0., 0., 0.],\n",
      "                 [0., 0., 0., 0., 0., 0., 0.],\n",
      "                 [0., 0., 0., 0., 0., 0., 0.],\n",
      "                 [0., 0., 0., 0., 0., 0., 0.],\n",
      "                 [0., 0., 0., 0., 0., 0., 0.],\n",
      "                 [0., 0., 0., 0., 0., 0., 0.],\n",
      "                 [0., 0., 0., 0., 0., 0., 0.]], dtype=float32)}}\n",
      "0 44.31926\n",
      "{'dense1': {'b': _FilledConstant([0., 0., 0., 0., 0., 0., 0.], dtype=float32), 'w': _FilledConstant([[0., 0., 0., 0., 0., 0., 0.],\n",
      "                 [0., 0., 0., 0., 0., 0., 0.],\n",
      "                 [0., 0., 0., 0., 0., 0., 0.],\n",
      "                 [0., 0., 0., 0., 0., 0., 0.],\n",
      "                 [0., 0., 0., 0., 0., 0., 0.],\n",
      "                 [0., 0., 0., 0., 0., 0., 0.],\n",
      "                 [0., 0., 0., 0., 0., 0., 0.]], dtype=float32)}, 'dense2': {'b': _FilledConstant([0.], dtype=float32), 'w': _FilledConstant([[0.],\n",
      "                 [0.],\n",
      "                 [0.],\n",
      "                 [0.],\n",
      "                 [0.],\n",
      "                 [0.],\n",
      "                 [0.]], dtype=float32)}, 'graph1': {'b': _FilledConstant([0., 0., 0., 0., 0., 0., 0., 0., 0.], dtype=float32), 'w': _FilledConstant([[0., 0., 0., 0., 0., 0., 0., 0., 0.],\n",
      "                 [0., 0., 0., 0., 0., 0., 0., 0., 0.],\n",
      "                 [0., 0., 0., 0., 0., 0., 0., 0., 0.],\n",
      "                 [0., 0., 0., 0., 0., 0., 0., 0., 0.],\n",
      "                 [0., 0., 0., 0., 0., 0., 0., 0., 0.],\n",
      "                 [0., 0., 0., 0., 0., 0., 0., 0., 0.],\n",
      "                 [0., 0., 0., 0., 0., 0., 0., 0., 0.],\n",
      "                 [0., 0., 0., 0., 0., 0., 0., 0., 0.],\n",
      "                 [0., 0., 0., 0., 0., 0., 0., 0., 0.]], dtype=float32)}, 'graph2': {'b': _FilledConstant([0., 0., 0., 0., 0., 0., 0.], dtype=float32), 'w': _FilledConstant([[0., 0., 0., 0., 0., 0., 0.],\n",
      "                 [0., 0., 0., 0., 0., 0., 0.],\n",
      "                 [0., 0., 0., 0., 0., 0., 0.],\n",
      "                 [0., 0., 0., 0., 0., 0., 0.],\n",
      "                 [0., 0., 0., 0., 0., 0., 0.],\n",
      "                 [0., 0., 0., 0., 0., 0., 0.],\n",
      "                 [0., 0., 0., 0., 0., 0., 0.],\n",
      "                 [0., 0., 0., 0., 0., 0., 0.],\n",
      "                 [0., 0., 0., 0., 0., 0., 0.]], dtype=float32)}}\n",
      "1 44.31926\n",
      "{'dense1': {'b': _FilledConstant([0., 0., 0., 0., 0., 0., 0.], dtype=float32), 'w': _FilledConstant([[0., 0., 0., 0., 0., 0., 0.],\n",
      "                 [0., 0., 0., 0., 0., 0., 0.],\n",
      "                 [0., 0., 0., 0., 0., 0., 0.],\n",
      "                 [0., 0., 0., 0., 0., 0., 0.],\n",
      "                 [0., 0., 0., 0., 0., 0., 0.],\n",
      "                 [0., 0., 0., 0., 0., 0., 0.],\n",
      "                 [0., 0., 0., 0., 0., 0., 0.]], dtype=float32)}, 'dense2': {'b': _FilledConstant([0.], dtype=float32), 'w': _FilledConstant([[0.],\n",
      "                 [0.],\n",
      "                 [0.],\n",
      "                 [0.],\n",
      "                 [0.],\n",
      "                 [0.],\n",
      "                 [0.]], dtype=float32)}, 'graph1': {'b': _FilledConstant([0., 0., 0., 0., 0., 0., 0., 0., 0.], dtype=float32), 'w': _FilledConstant([[0., 0., 0., 0., 0., 0., 0., 0., 0.],\n",
      "                 [0., 0., 0., 0., 0., 0., 0., 0., 0.],\n",
      "                 [0., 0., 0., 0., 0., 0., 0., 0., 0.],\n",
      "                 [0., 0., 0., 0., 0., 0., 0., 0., 0.],\n",
      "                 [0., 0., 0., 0., 0., 0., 0., 0., 0.],\n",
      "                 [0., 0., 0., 0., 0., 0., 0., 0., 0.],\n",
      "                 [0., 0., 0., 0., 0., 0., 0., 0., 0.],\n",
      "                 [0., 0., 0., 0., 0., 0., 0., 0., 0.],\n",
      "                 [0., 0., 0., 0., 0., 0., 0., 0., 0.]], dtype=float32)}, 'graph2': {'b': _FilledConstant([0., 0., 0., 0., 0., 0., 0.], dtype=float32), 'w': _FilledConstant([[0., 0., 0., 0., 0., 0., 0.],\n",
      "                 [0., 0., 0., 0., 0., 0., 0.],\n",
      "                 [0., 0., 0., 0., 0., 0., 0.],\n",
      "                 [0., 0., 0., 0., 0., 0., 0.],\n",
      "                 [0., 0., 0., 0., 0., 0., 0.],\n",
      "                 [0., 0., 0., 0., 0., 0., 0.],\n",
      "                 [0., 0., 0., 0., 0., 0., 0.],\n",
      "                 [0., 0., 0., 0., 0., 0., 0.],\n",
      "                 [0., 0., 0., 0., 0., 0., 0.]], dtype=float32)}}\n",
      "2 44.31926\n"
     ]
    },
    {
     "ename": "KeyboardInterrupt",
     "evalue": "",
     "output_type": "error",
     "traceback": [
      "\u001b[0;31m---------------------------------------------------------------------------\u001b[0m",
      "\u001b[0;31mKeyboardInterrupt\u001b[0m                         Traceback (most recent call last)",
      "\u001b[0;32m<ipython-input-65-cb2ea0a55d5b>\u001b[0m in \u001b[0;36m<module>\u001b[0;34m\u001b[0m\n\u001b[1;32m      8\u001b[0m \u001b[0;32mfor\u001b[0m \u001b[0mi\u001b[0m \u001b[0;32min\u001b[0m \u001b[0mrange\u001b[0m\u001b[0;34m(\u001b[0m\u001b[0;36m1000\u001b[0m\u001b[0;34m)\u001b[0m\u001b[0;34m:\u001b[0m\u001b[0;34m\u001b[0m\u001b[0;34m\u001b[0m\u001b[0m\n\u001b[1;32m      9\u001b[0m     \u001b[0mg\u001b[0m \u001b[0;34m=\u001b[0m \u001b[0mdloss\u001b[0m\u001b[0;34m(\u001b[0m\u001b[0mparams\u001b[0m\u001b[0;34m,\u001b[0m \u001b[0mmodel\u001b[0m\u001b[0;34m,\u001b[0m \u001b[0mFs\u001b[0m\u001b[0;34m,\u001b[0m \u001b[0mAs\u001b[0m\u001b[0;34m,\u001b[0m \u001b[0my\u001b[0m\u001b[0;34m)\u001b[0m\u001b[0;34m\u001b[0m\u001b[0;34m\u001b[0m\u001b[0m\n\u001b[0;32m---> 10\u001b[0;31m     \u001b[0mprint\u001b[0m\u001b[0;34m(\u001b[0m\u001b[0mg\u001b[0m\u001b[0;34m)\u001b[0m\u001b[0;34m\u001b[0m\u001b[0;34m\u001b[0m\u001b[0m\n\u001b[0m\u001b[1;32m     11\u001b[0m     \u001b[0ml\u001b[0m \u001b[0;34m=\u001b[0m \u001b[0mmseloss\u001b[0m\u001b[0;34m(\u001b[0m\u001b[0mparams\u001b[0m\u001b[0;34m,\u001b[0m \u001b[0mmodel\u001b[0m\u001b[0;34m,\u001b[0m \u001b[0mFs\u001b[0m\u001b[0;34m,\u001b[0m \u001b[0mAs\u001b[0m\u001b[0;34m,\u001b[0m \u001b[0my\u001b[0m\u001b[0;34m)\u001b[0m\u001b[0;34m\u001b[0m\u001b[0;34m\u001b[0m\u001b[0m\n\u001b[1;32m     12\u001b[0m \u001b[0;34m\u001b[0m\u001b[0m\n",
      "\u001b[0;32m~/anaconda/envs/fundl-dev/lib/python3.7/site-packages/jax/interpreters/xla.py\u001b[0m in \u001b[0;36m__repr__\u001b[0;34m(self)\u001b[0m\n\u001b[1;32m    581\u001b[0m \u001b[0;34m\u001b[0m\u001b[0m\n\u001b[1;32m    582\u001b[0m   \u001b[0;32mdef\u001b[0m \u001b[0m__repr__\u001b[0m\u001b[0;34m(\u001b[0m\u001b[0mself\u001b[0m\u001b[0;34m)\u001b[0m\u001b[0;34m:\u001b[0m\u001b[0;34m\u001b[0m\u001b[0;34m\u001b[0m\u001b[0m\n\u001b[0;32m--> 583\u001b[0;31m     \u001b[0;32mreturn\u001b[0m \u001b[0monp\u001b[0m\u001b[0;34m.\u001b[0m\u001b[0marray_repr\u001b[0m\u001b[0;34m(\u001b[0m\u001b[0mself\u001b[0m\u001b[0;34m)\u001b[0m\u001b[0;34m\u001b[0m\u001b[0;34m\u001b[0m\u001b[0m\n\u001b[0m\u001b[1;32m    584\u001b[0m \u001b[0;34m\u001b[0m\u001b[0m\n\u001b[1;32m    585\u001b[0m   \u001b[0;32mdef\u001b[0m \u001b[0mitem\u001b[0m\u001b[0;34m(\u001b[0m\u001b[0mself\u001b[0m\u001b[0;34m)\u001b[0m\u001b[0;34m:\u001b[0m\u001b[0;34m\u001b[0m\u001b[0;34m\u001b[0m\u001b[0m\n",
      "\u001b[0;32m<__array_function__ internals>\u001b[0m in \u001b[0;36marray_repr\u001b[0;34m(*args, **kwargs)\u001b[0m\n",
      "\u001b[0;32m~/anaconda/envs/fundl-dev/lib/python3.7/site-packages/numpy/core/arrayprint.py\u001b[0m in \u001b[0;36marray_repr\u001b[0;34m(arr, max_line_width, precision, suppress_small)\u001b[0m\n\u001b[1;32m   1504\u001b[0m     \"\"\"\n\u001b[1;32m   1505\u001b[0m     return _array_repr_implementation(\n\u001b[0;32m-> 1506\u001b[0;31m         arr, max_line_width, precision, suppress_small)\n\u001b[0m\u001b[1;32m   1507\u001b[0m \u001b[0;34m\u001b[0m\u001b[0m\n\u001b[1;32m   1508\u001b[0m \u001b[0;34m\u001b[0m\u001b[0m\n",
      "\u001b[0;32m~/anaconda/envs/fundl-dev/lib/python3.7/site-packages/numpy/core/arrayprint.py\u001b[0m in \u001b[0;36m_array_repr_implementation\u001b[0;34m(arr, max_line_width, precision, suppress_small, array2string)\u001b[0m\n\u001b[1;32m   1428\u001b[0m     \u001b[0;32melif\u001b[0m \u001b[0marr\u001b[0m\u001b[0;34m.\u001b[0m\u001b[0msize\u001b[0m \u001b[0;34m>\u001b[0m \u001b[0;36m0\u001b[0m \u001b[0;32mor\u001b[0m \u001b[0marr\u001b[0m\u001b[0;34m.\u001b[0m\u001b[0mshape\u001b[0m \u001b[0;34m==\u001b[0m \u001b[0;34m(\u001b[0m\u001b[0;36m0\u001b[0m\u001b[0;34m,\u001b[0m\u001b[0;34m)\u001b[0m\u001b[0;34m:\u001b[0m\u001b[0;34m\u001b[0m\u001b[0;34m\u001b[0m\u001b[0m\n\u001b[1;32m   1429\u001b[0m         lst = array2string(arr, max_line_width, precision, suppress_small,\n\u001b[0;32m-> 1430\u001b[0;31m                            ', ', prefix, suffix=suffix)\n\u001b[0m\u001b[1;32m   1431\u001b[0m     \u001b[0;32melse\u001b[0m\u001b[0;34m:\u001b[0m  \u001b[0;31m# show zero-length shape unless it is (0,)\u001b[0m\u001b[0;34m\u001b[0m\u001b[0;34m\u001b[0m\u001b[0m\n\u001b[1;32m   1432\u001b[0m         \u001b[0mlst\u001b[0m \u001b[0;34m=\u001b[0m \u001b[0;34m\"[], shape=%s\"\u001b[0m \u001b[0;34m%\u001b[0m \u001b[0;34m(\u001b[0m\u001b[0mrepr\u001b[0m\u001b[0;34m(\u001b[0m\u001b[0marr\u001b[0m\u001b[0;34m.\u001b[0m\u001b[0mshape\u001b[0m\u001b[0;34m)\u001b[0m\u001b[0;34m,\u001b[0m\u001b[0;34m)\u001b[0m\u001b[0;34m\u001b[0m\u001b[0;34m\u001b[0m\u001b[0m\n",
      "\u001b[0;32m<__array_function__ internals>\u001b[0m in \u001b[0;36marray2string\u001b[0;34m(*args, **kwargs)\u001b[0m\n",
      "\u001b[0;32m~/anaconda/envs/fundl-dev/lib/python3.7/site-packages/numpy/core/arrayprint.py\u001b[0m in \u001b[0;36marray2string\u001b[0;34m(a, max_line_width, precision, suppress_small, separator, prefix, style, formatter, threshold, edgeitems, sign, floatmode, suffix, **kwarg)\u001b[0m\n\u001b[1;32m    698\u001b[0m         \u001b[0;32mreturn\u001b[0m \u001b[0;34m\"[]\"\u001b[0m\u001b[0;34m\u001b[0m\u001b[0;34m\u001b[0m\u001b[0m\n\u001b[1;32m    699\u001b[0m \u001b[0;34m\u001b[0m\u001b[0m\n\u001b[0;32m--> 700\u001b[0;31m     \u001b[0;32mreturn\u001b[0m \u001b[0m_array2string\u001b[0m\u001b[0;34m(\u001b[0m\u001b[0ma\u001b[0m\u001b[0;34m,\u001b[0m \u001b[0moptions\u001b[0m\u001b[0;34m,\u001b[0m \u001b[0mseparator\u001b[0m\u001b[0;34m,\u001b[0m \u001b[0mprefix\u001b[0m\u001b[0;34m)\u001b[0m\u001b[0;34m\u001b[0m\u001b[0;34m\u001b[0m\u001b[0m\n\u001b[0m\u001b[1;32m    701\u001b[0m \u001b[0;34m\u001b[0m\u001b[0m\n\u001b[1;32m    702\u001b[0m \u001b[0;34m\u001b[0m\u001b[0m\n",
      "\u001b[0;32m~/anaconda/envs/fundl-dev/lib/python3.7/site-packages/numpy/core/arrayprint.py\u001b[0m in \u001b[0;36mwrapper\u001b[0;34m(self, *args, **kwargs)\u001b[0m\n\u001b[1;32m    470\u001b[0m             \u001b[0mrepr_running\u001b[0m\u001b[0;34m.\u001b[0m\u001b[0madd\u001b[0m\u001b[0;34m(\u001b[0m\u001b[0mkey\u001b[0m\u001b[0;34m)\u001b[0m\u001b[0;34m\u001b[0m\u001b[0;34m\u001b[0m\u001b[0m\n\u001b[1;32m    471\u001b[0m             \u001b[0;32mtry\u001b[0m\u001b[0;34m:\u001b[0m\u001b[0;34m\u001b[0m\u001b[0;34m\u001b[0m\u001b[0m\n\u001b[0;32m--> 472\u001b[0;31m                 \u001b[0;32mreturn\u001b[0m \u001b[0mf\u001b[0m\u001b[0;34m(\u001b[0m\u001b[0mself\u001b[0m\u001b[0;34m,\u001b[0m \u001b[0;34m*\u001b[0m\u001b[0margs\u001b[0m\u001b[0;34m,\u001b[0m \u001b[0;34m**\u001b[0m\u001b[0mkwargs\u001b[0m\u001b[0;34m)\u001b[0m\u001b[0;34m\u001b[0m\u001b[0;34m\u001b[0m\u001b[0m\n\u001b[0m\u001b[1;32m    473\u001b[0m             \u001b[0;32mfinally\u001b[0m\u001b[0;34m:\u001b[0m\u001b[0;34m\u001b[0m\u001b[0;34m\u001b[0m\u001b[0m\n\u001b[1;32m    474\u001b[0m                 \u001b[0mrepr_running\u001b[0m\u001b[0;34m.\u001b[0m\u001b[0mdiscard\u001b[0m\u001b[0;34m(\u001b[0m\u001b[0mkey\u001b[0m\u001b[0;34m)\u001b[0m\u001b[0;34m\u001b[0m\u001b[0;34m\u001b[0m\u001b[0m\n",
      "\u001b[0;32m~/anaconda/envs/fundl-dev/lib/python3.7/site-packages/numpy/core/arrayprint.py\u001b[0m in \u001b[0;36m_array2string\u001b[0;34m(a, options, separator, prefix)\u001b[0m\n\u001b[1;32m    505\u001b[0m     lst = _formatArray(a, format_function, options['linewidth'],\n\u001b[1;32m    506\u001b[0m                        \u001b[0mnext_line_prefix\u001b[0m\u001b[0;34m,\u001b[0m \u001b[0mseparator\u001b[0m\u001b[0;34m,\u001b[0m \u001b[0moptions\u001b[0m\u001b[0;34m[\u001b[0m\u001b[0;34m'edgeitems'\u001b[0m\u001b[0;34m]\u001b[0m\u001b[0;34m,\u001b[0m\u001b[0;34m\u001b[0m\u001b[0;34m\u001b[0m\u001b[0m\n\u001b[0;32m--> 507\u001b[0;31m                        summary_insert, options['legacy'])\n\u001b[0m\u001b[1;32m    508\u001b[0m     \u001b[0;32mreturn\u001b[0m \u001b[0mlst\u001b[0m\u001b[0;34m\u001b[0m\u001b[0;34m\u001b[0m\u001b[0m\n\u001b[1;32m    509\u001b[0m \u001b[0;34m\u001b[0m\u001b[0m\n",
      "\u001b[0;32m~/anaconda/envs/fundl-dev/lib/python3.7/site-packages/numpy/core/arrayprint.py\u001b[0m in \u001b[0;36m_formatArray\u001b[0;34m(a, format_function, line_width, next_line_prefix, separator, edge_items, summary_insert, legacy)\u001b[0m\n\u001b[1;32m    826\u001b[0m         return recurser(index=(),\n\u001b[1;32m    827\u001b[0m                         \u001b[0mhanging_indent\u001b[0m\u001b[0;34m=\u001b[0m\u001b[0mnext_line_prefix\u001b[0m\u001b[0;34m,\u001b[0m\u001b[0;34m\u001b[0m\u001b[0;34m\u001b[0m\u001b[0m\n\u001b[0;32m--> 828\u001b[0;31m                         curr_width=line_width)\n\u001b[0m\u001b[1;32m    829\u001b[0m     \u001b[0;32mfinally\u001b[0m\u001b[0;34m:\u001b[0m\u001b[0;34m\u001b[0m\u001b[0;34m\u001b[0m\u001b[0m\n\u001b[1;32m    830\u001b[0m         \u001b[0;31m# recursive closures have a cyclic reference to themselves, which\u001b[0m\u001b[0;34m\u001b[0m\u001b[0;34m\u001b[0m\u001b[0;34m\u001b[0m\u001b[0m\n",
      "\u001b[0;32m~/anaconda/envs/fundl-dev/lib/python3.7/site-packages/numpy/core/arrayprint.py\u001b[0m in \u001b[0;36mrecurser\u001b[0;34m(index, hanging_indent, curr_width)\u001b[0m\n\u001b[1;32m    812\u001b[0m             \u001b[0;32mfor\u001b[0m \u001b[0mi\u001b[0m \u001b[0;32min\u001b[0m \u001b[0mrange\u001b[0m\u001b[0;34m(\u001b[0m\u001b[0mtrailing_items\u001b[0m\u001b[0;34m,\u001b[0m \u001b[0;36m1\u001b[0m\u001b[0;34m,\u001b[0m \u001b[0;34m-\u001b[0m\u001b[0;36m1\u001b[0m\u001b[0;34m)\u001b[0m\u001b[0;34m:\u001b[0m\u001b[0;34m\u001b[0m\u001b[0;34m\u001b[0m\u001b[0m\n\u001b[1;32m    813\u001b[0m                 nested = recurser(index + (-i,), next_hanging_indent,\n\u001b[0;32m--> 814\u001b[0;31m                                   next_width)\n\u001b[0m\u001b[1;32m    815\u001b[0m                 \u001b[0ms\u001b[0m \u001b[0;34m+=\u001b[0m \u001b[0mhanging_indent\u001b[0m \u001b[0;34m+\u001b[0m \u001b[0mnested\u001b[0m \u001b[0;34m+\u001b[0m \u001b[0mline_sep\u001b[0m\u001b[0;34m\u001b[0m\u001b[0;34m\u001b[0m\u001b[0m\n\u001b[1;32m    816\u001b[0m \u001b[0;34m\u001b[0m\u001b[0m\n",
      "\u001b[0;32m~/anaconda/envs/fundl-dev/lib/python3.7/site-packages/numpy/core/arrayprint.py\u001b[0m in \u001b[0;36mrecurser\u001b[0;34m(index, hanging_indent, curr_width)\u001b[0m\n\u001b[1;32m    780\u001b[0m \u001b[0;34m\u001b[0m\u001b[0m\n\u001b[1;32m    781\u001b[0m             \u001b[0;32mfor\u001b[0m \u001b[0mi\u001b[0m \u001b[0;32min\u001b[0m \u001b[0mrange\u001b[0m\u001b[0;34m(\u001b[0m\u001b[0mtrailing_items\u001b[0m\u001b[0;34m,\u001b[0m \u001b[0;36m1\u001b[0m\u001b[0;34m,\u001b[0m \u001b[0;34m-\u001b[0m\u001b[0;36m1\u001b[0m\u001b[0;34m)\u001b[0m\u001b[0;34m:\u001b[0m\u001b[0;34m\u001b[0m\u001b[0;34m\u001b[0m\u001b[0m\n\u001b[0;32m--> 782\u001b[0;31m                 \u001b[0mword\u001b[0m \u001b[0;34m=\u001b[0m \u001b[0mrecurser\u001b[0m\u001b[0;34m(\u001b[0m\u001b[0mindex\u001b[0m \u001b[0;34m+\u001b[0m \u001b[0;34m(\u001b[0m\u001b[0;34m-\u001b[0m\u001b[0mi\u001b[0m\u001b[0;34m,\u001b[0m\u001b[0;34m)\u001b[0m\u001b[0;34m,\u001b[0m \u001b[0mnext_hanging_indent\u001b[0m\u001b[0;34m,\u001b[0m \u001b[0mnext_width\u001b[0m\u001b[0;34m)\u001b[0m\u001b[0;34m\u001b[0m\u001b[0;34m\u001b[0m\u001b[0m\n\u001b[0m\u001b[1;32m    783\u001b[0m                 s, line = _extendLine(\n\u001b[1;32m    784\u001b[0m                     s, line, word, elem_width, hanging_indent, legacy)\n",
      "\u001b[0;32m~/anaconda/envs/fundl-dev/lib/python3.7/site-packages/numpy/core/arrayprint.py\u001b[0m in \u001b[0;36mrecurser\u001b[0;34m(index, hanging_indent, curr_width)\u001b[0m\n\u001b[1;32m    734\u001b[0m \u001b[0;34m\u001b[0m\u001b[0m\n\u001b[1;32m    735\u001b[0m         \u001b[0;32mif\u001b[0m \u001b[0maxes_left\u001b[0m \u001b[0;34m==\u001b[0m \u001b[0;36m0\u001b[0m\u001b[0;34m:\u001b[0m\u001b[0;34m\u001b[0m\u001b[0;34m\u001b[0m\u001b[0m\n\u001b[0;32m--> 736\u001b[0;31m             \u001b[0;32mreturn\u001b[0m \u001b[0mformat_function\u001b[0m\u001b[0;34m(\u001b[0m\u001b[0ma\u001b[0m\u001b[0;34m[\u001b[0m\u001b[0mindex\u001b[0m\u001b[0;34m]\u001b[0m\u001b[0;34m)\u001b[0m\u001b[0;34m\u001b[0m\u001b[0;34m\u001b[0m\u001b[0m\n\u001b[0m\u001b[1;32m    737\u001b[0m \u001b[0;34m\u001b[0m\u001b[0m\n\u001b[1;32m    738\u001b[0m         \u001b[0;31m# when recursing, add a space to align with the [ added, and reduce the\u001b[0m\u001b[0;34m\u001b[0m\u001b[0;34m\u001b[0m\u001b[0;34m\u001b[0m\u001b[0m\n",
      "\u001b[0;32m~/anaconda/envs/fundl-dev/lib/python3.7/site-packages/jax/numpy/lax_numpy.py\u001b[0m in \u001b[0;36m_rewriting_take\u001b[0;34m(arr, idx)\u001b[0m\n\u001b[1;32m   2366\u001b[0m   \u001b[0;31m# followed by an optional reverse and a reshape.\u001b[0m\u001b[0;34m\u001b[0m\u001b[0;34m\u001b[0m\u001b[0;34m\u001b[0m\u001b[0m\n\u001b[1;32m   2367\u001b[0m   \u001b[0marr\u001b[0m \u001b[0;34m=\u001b[0m \u001b[0masarray\u001b[0m\u001b[0;34m(\u001b[0m\u001b[0marr\u001b[0m\u001b[0;34m)\u001b[0m\u001b[0;34m\u001b[0m\u001b[0;34m\u001b[0m\u001b[0m\n\u001b[0;32m-> 2368\u001b[0;31m   \u001b[0mindexer\u001b[0m \u001b[0;34m=\u001b[0m \u001b[0m_index_to_gather\u001b[0m\u001b[0;34m(\u001b[0m\u001b[0mshape\u001b[0m\u001b[0;34m(\u001b[0m\u001b[0marr\u001b[0m\u001b[0;34m)\u001b[0m\u001b[0;34m,\u001b[0m \u001b[0midx\u001b[0m\u001b[0;34m)\u001b[0m  \u001b[0;31m# shared with _scatter_update\u001b[0m\u001b[0;34m\u001b[0m\u001b[0;34m\u001b[0m\u001b[0m\n\u001b[0m\u001b[1;32m   2369\u001b[0m \u001b[0;34m\u001b[0m\u001b[0m\n\u001b[1;32m   2370\u001b[0m   y = lax.gather(arr, indexer.gather_indices, indexer.dnums,\n",
      "\u001b[0;32m~/anaconda/envs/fundl-dev/lib/python3.7/site-packages/jax/numpy/lax_numpy.py\u001b[0m in \u001b[0;36m_index_to_gather\u001b[0;34m(x_shape, idx)\u001b[0m\n\u001b[1;32m   2505\u001b[0m       \u001b[0mi\u001b[0m \u001b[0;34m=\u001b[0m \u001b[0m_normalize_index\u001b[0m\u001b[0;34m(\u001b[0m\u001b[0mi\u001b[0m\u001b[0;34m,\u001b[0m \u001b[0mx_shape\u001b[0m\u001b[0;34m[\u001b[0m\u001b[0mx_axis\u001b[0m\u001b[0;34m]\u001b[0m\u001b[0;34m)\u001b[0m\u001b[0;34m\u001b[0m\u001b[0;34m\u001b[0m\u001b[0m\n\u001b[1;32m   2506\u001b[0m       \u001b[0mi\u001b[0m \u001b[0;34m=\u001b[0m \u001b[0mlax\u001b[0m\u001b[0;34m.\u001b[0m\u001b[0mconvert_element_type\u001b[0m\u001b[0;34m(\u001b[0m\u001b[0mi\u001b[0m\u001b[0;34m,\u001b[0m \u001b[0mint32\u001b[0m\u001b[0;34m)\u001b[0m\u001b[0;34m\u001b[0m\u001b[0;34m\u001b[0m\u001b[0m\n\u001b[0;32m-> 2507\u001b[0;31m       \u001b[0mi\u001b[0m \u001b[0;34m=\u001b[0m \u001b[0mbroadcast_to\u001b[0m\u001b[0;34m(\u001b[0m\u001b[0mi\u001b[0m\u001b[0;34m,\u001b[0m \u001b[0mtuple\u001b[0m\u001b[0;34m(\u001b[0m\u001b[0mgather_indices\u001b[0m\u001b[0;34m.\u001b[0m\u001b[0mshape\u001b[0m\u001b[0;34m[\u001b[0m\u001b[0;34m:\u001b[0m\u001b[0;34m-\u001b[0m\u001b[0;36m1\u001b[0m\u001b[0;34m]\u001b[0m\u001b[0;34m)\u001b[0m \u001b[0;34m+\u001b[0m \u001b[0;34m(\u001b[0m\u001b[0;36m1\u001b[0m\u001b[0;34m,\u001b[0m\u001b[0;34m)\u001b[0m\u001b[0;34m)\u001b[0m\u001b[0;34m\u001b[0m\u001b[0;34m\u001b[0m\u001b[0m\n\u001b[0m\u001b[1;32m   2508\u001b[0m       \u001b[0mgather_indices\u001b[0m \u001b[0;34m=\u001b[0m \u001b[0mconcatenate\u001b[0m\u001b[0;34m(\u001b[0m\u001b[0;34m(\u001b[0m\u001b[0mgather_indices\u001b[0m\u001b[0;34m,\u001b[0m \u001b[0mi\u001b[0m\u001b[0;34m)\u001b[0m\u001b[0;34m,\u001b[0m \u001b[0;34m-\u001b[0m\u001b[0;36m1\u001b[0m\u001b[0;34m)\u001b[0m\u001b[0;34m\u001b[0m\u001b[0;34m\u001b[0m\u001b[0m\n\u001b[1;32m   2509\u001b[0m       \u001b[0mcollapsed_slice_dims\u001b[0m\u001b[0;34m.\u001b[0m\u001b[0mappend\u001b[0m\u001b[0;34m(\u001b[0m\u001b[0mx_axis\u001b[0m\u001b[0;34m)\u001b[0m\u001b[0;34m\u001b[0m\u001b[0;34m\u001b[0m\u001b[0m\n",
      "\u001b[0;32m~/anaconda/envs/fundl-dev/lib/python3.7/site-packages/jax/numpy/lax_numpy.py\u001b[0m in \u001b[0;36mbroadcast_to\u001b[0;34m(arr, shape)\u001b[0m\n\u001b[1;32m    858\u001b[0m \u001b[0;34m\u001b[0m\u001b[0m\n\u001b[1;32m    859\u001b[0m     \u001b[0mnew_dims\u001b[0m \u001b[0;34m=\u001b[0m \u001b[0mtuple\u001b[0m\u001b[0;34m(\u001b[0m\u001b[0mrange\u001b[0m\u001b[0;34m(\u001b[0m\u001b[0mnlead\u001b[0m\u001b[0;34m)\u001b[0m\u001b[0;34m)\u001b[0m \u001b[0;34m+\u001b[0m \u001b[0mtuple\u001b[0m\u001b[0;34m(\u001b[0m\u001b[0mnlead\u001b[0m \u001b[0;34m+\u001b[0m \u001b[0mdiff\u001b[0m\u001b[0;34m)\u001b[0m\u001b[0;34m\u001b[0m\u001b[0;34m\u001b[0m\u001b[0m\n\u001b[0;32m--> 860\u001b[0;31m     \u001b[0mkept_dims\u001b[0m \u001b[0;34m=\u001b[0m \u001b[0mtuple\u001b[0m\u001b[0;34m(\u001b[0m\u001b[0monp\u001b[0m\u001b[0;34m.\u001b[0m\u001b[0mdelete\u001b[0m\u001b[0;34m(\u001b[0m\u001b[0monp\u001b[0m\u001b[0;34m.\u001b[0m\u001b[0marange\u001b[0m\u001b[0;34m(\u001b[0m\u001b[0mlen\u001b[0m\u001b[0;34m(\u001b[0m\u001b[0mshape\u001b[0m\u001b[0;34m)\u001b[0m\u001b[0;34m)\u001b[0m\u001b[0;34m,\u001b[0m \u001b[0mnew_dims\u001b[0m\u001b[0;34m)\u001b[0m\u001b[0;34m)\u001b[0m\u001b[0;34m\u001b[0m\u001b[0;34m\u001b[0m\u001b[0m\n\u001b[0m\u001b[1;32m    861\u001b[0m     \u001b[0mperm\u001b[0m \u001b[0;34m=\u001b[0m \u001b[0monp\u001b[0m\u001b[0;34m.\u001b[0m\u001b[0margsort\u001b[0m\u001b[0;34m(\u001b[0m\u001b[0mnew_dims\u001b[0m \u001b[0;34m+\u001b[0m \u001b[0mkept_dims\u001b[0m\u001b[0;34m)\u001b[0m\u001b[0;34m\u001b[0m\u001b[0;34m\u001b[0m\u001b[0m\n\u001b[1;32m    862\u001b[0m \u001b[0;34m\u001b[0m\u001b[0m\n",
      "\u001b[0;32m<__array_function__ internals>\u001b[0m in \u001b[0;36mdelete\u001b[0;34m(*args, **kwargs)\u001b[0m\n",
      "\u001b[0;32m~/anaconda/envs/fundl-dev/lib/python3.7/site-packages/numpy/lib/function_base.py\u001b[0m in \u001b[0;36mdelete\u001b[0;34m(arr, obj, axis)\u001b[0m\n\u001b[1;32m   4406\u001b[0m         \u001b[0;31m# Test if there are out of bound indices, this is deprecated\u001b[0m\u001b[0;34m\u001b[0m\u001b[0;34m\u001b[0m\u001b[0;34m\u001b[0m\u001b[0m\n\u001b[1;32m   4407\u001b[0m         \u001b[0minside_bounds\u001b[0m \u001b[0;34m=\u001b[0m \u001b[0;34m(\u001b[0m\u001b[0mobj\u001b[0m \u001b[0;34m<\u001b[0m \u001b[0mN\u001b[0m\u001b[0;34m)\u001b[0m \u001b[0;34m&\u001b[0m \u001b[0;34m(\u001b[0m\u001b[0mobj\u001b[0m \u001b[0;34m>=\u001b[0m \u001b[0;34m-\u001b[0m\u001b[0mN\u001b[0m\u001b[0;34m)\u001b[0m\u001b[0;34m\u001b[0m\u001b[0;34m\u001b[0m\u001b[0m\n\u001b[0;32m-> 4408\u001b[0;31m         \u001b[0;32mif\u001b[0m \u001b[0;32mnot\u001b[0m \u001b[0minside_bounds\u001b[0m\u001b[0;34m.\u001b[0m\u001b[0mall\u001b[0m\u001b[0;34m(\u001b[0m\u001b[0;34m)\u001b[0m\u001b[0;34m:\u001b[0m\u001b[0;34m\u001b[0m\u001b[0;34m\u001b[0m\u001b[0m\n\u001b[0m\u001b[1;32m   4409\u001b[0m             \u001b[0;31m# 2013-09-24, 1.9\u001b[0m\u001b[0;34m\u001b[0m\u001b[0;34m\u001b[0m\u001b[0;34m\u001b[0m\u001b[0m\n\u001b[1;32m   4410\u001b[0m             warnings.warn(\n",
      "\u001b[0;32m~/anaconda/envs/fundl-dev/lib/python3.7/site-packages/numpy/core/_methods.py\u001b[0m in \u001b[0;36m_all\u001b[0;34m(a, axis, dtype, out, keepdims)\u001b[0m\n\u001b[1;32m     46\u001b[0m \u001b[0;34m\u001b[0m\u001b[0m\n\u001b[1;32m     47\u001b[0m \u001b[0;32mdef\u001b[0m \u001b[0m_all\u001b[0m\u001b[0;34m(\u001b[0m\u001b[0ma\u001b[0m\u001b[0;34m,\u001b[0m \u001b[0maxis\u001b[0m\u001b[0;34m=\u001b[0m\u001b[0;32mNone\u001b[0m\u001b[0;34m,\u001b[0m \u001b[0mdtype\u001b[0m\u001b[0;34m=\u001b[0m\u001b[0;32mNone\u001b[0m\u001b[0;34m,\u001b[0m \u001b[0mout\u001b[0m\u001b[0;34m=\u001b[0m\u001b[0;32mNone\u001b[0m\u001b[0;34m,\u001b[0m \u001b[0mkeepdims\u001b[0m\u001b[0;34m=\u001b[0m\u001b[0;32mFalse\u001b[0m\u001b[0;34m)\u001b[0m\u001b[0;34m:\u001b[0m\u001b[0;34m\u001b[0m\u001b[0;34m\u001b[0m\u001b[0m\n\u001b[0;32m---> 48\u001b[0;31m     \u001b[0;32mreturn\u001b[0m \u001b[0mumr_all\u001b[0m\u001b[0;34m(\u001b[0m\u001b[0ma\u001b[0m\u001b[0;34m,\u001b[0m \u001b[0maxis\u001b[0m\u001b[0;34m,\u001b[0m \u001b[0mdtype\u001b[0m\u001b[0;34m,\u001b[0m \u001b[0mout\u001b[0m\u001b[0;34m,\u001b[0m \u001b[0mkeepdims\u001b[0m\u001b[0;34m)\u001b[0m\u001b[0;34m\u001b[0m\u001b[0;34m\u001b[0m\u001b[0m\n\u001b[0m\u001b[1;32m     49\u001b[0m \u001b[0;34m\u001b[0m\u001b[0m\n\u001b[1;32m     50\u001b[0m \u001b[0;32mdef\u001b[0m \u001b[0m_count_reduce_items\u001b[0m\u001b[0;34m(\u001b[0m\u001b[0marr\u001b[0m\u001b[0;34m,\u001b[0m \u001b[0maxis\u001b[0m\u001b[0;34m)\u001b[0m\u001b[0;34m:\u001b[0m\u001b[0;34m\u001b[0m\u001b[0;34m\u001b[0m\u001b[0m\n",
      "\u001b[0;31mKeyboardInterrupt\u001b[0m: "
     ]
    }
   ],
   "source": [
    "dloss = grad(mseloss)\n",
    "\n",
    "from jax.experimental.optimizers import adam\n",
    "\n",
    "init, update, get_params = adam(step_size=0.01)\n",
    "\n",
    "state = init(params)\n",
    "for i in range(1000):\n",
    "    g = dloss(params, model, Fs, As, y)\n",
    "    print(g)\n",
    "    l = mseloss(params, model, Fs, As, y)\n",
    "\n",
    "    state = update(i, g, state)\n",
    "    params = get_params(state)\n",
    "    preds = model(params, Fs, As)\n",
    "\n",
    "    print(i, l)\n"
   ]
  },
  {
   "cell_type": "code",
   "execution_count": null,
   "metadata": {},
   "outputs": [],
   "source": []
  }
 ],
 "metadata": {
  "kernelspec": {
   "display_name": "fundl-dev",
   "language": "python",
   "name": "fundl-dev"
  },
  "language_info": {
   "codemirror_mode": {
    "name": "ipython",
    "version": 3
   },
   "file_extension": ".py",
   "mimetype": "text/x-python",
   "name": "python",
   "nbconvert_exporter": "python",
   "pygments_lexer": "ipython3",
   "version": "3.7.3"
  }
 },
 "nbformat": 4,
 "nbformat_minor": 4
}
